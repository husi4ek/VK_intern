{
 "cells": [
  {
   "cell_type": "code",
   "execution_count": 1,
   "metadata": {
    "tags": []
   },
   "outputs": [],
   "source": [
    "import pandas as pd"
   ]
  },
  {
   "cell_type": "code",
   "execution_count": 2,
   "metadata": {
    "tags": []
   },
   "outputs": [],
   "source": [
    "import torch"
   ]
  },
  {
   "cell_type": "code",
   "execution_count": 4,
   "metadata": {
    "tags": []
   },
   "outputs": [
    {
     "data": {
      "text/html": [
       "<div>\n",
       "<style scoped>\n",
       "    .dataframe tbody tr th:only-of-type {\n",
       "        vertical-align: middle;\n",
       "    }\n",
       "\n",
       "    .dataframe tbody tr th {\n",
       "        vertical-align: top;\n",
       "    }\n",
       "\n",
       "    .dataframe thead th {\n",
       "        text-align: right;\n",
       "    }\n",
       "</style>\n",
       "<table border=\"1\" class=\"dataframe\">\n",
       "  <thead>\n",
       "    <tr style=\"text-align: right;\">\n",
       "      <th></th>\n",
       "      <th>rank</th>\n",
       "      <th>query_id</th>\n",
       "      <th>feature_0</th>\n",
       "      <th>feature_1</th>\n",
       "      <th>feature_2</th>\n",
       "      <th>feature_3</th>\n",
       "      <th>feature_4</th>\n",
       "      <th>feature_5</th>\n",
       "      <th>feature_6</th>\n",
       "      <th>feature_7</th>\n",
       "      <th>...</th>\n",
       "      <th>feature_134</th>\n",
       "      <th>feature_135</th>\n",
       "      <th>feature_136</th>\n",
       "      <th>feature_137</th>\n",
       "      <th>feature_138</th>\n",
       "      <th>feature_139</th>\n",
       "      <th>feature_140</th>\n",
       "      <th>feature_141</th>\n",
       "      <th>feature_142</th>\n",
       "      <th>feature_143</th>\n",
       "    </tr>\n",
       "  </thead>\n",
       "  <tbody>\n",
       "    <tr>\n",
       "      <th>0</th>\n",
       "      <td>0</td>\n",
       "      <td>10</td>\n",
       "      <td>1.0</td>\n",
       "      <td>0.0</td>\n",
       "      <td>1.0</td>\n",
       "      <td>3.0</td>\n",
       "      <td>3.0</td>\n",
       "      <td>0.333333</td>\n",
       "      <td>0.0</td>\n",
       "      <td>0.333333</td>\n",
       "      <td>...</td>\n",
       "      <td>0.0</td>\n",
       "      <td>0.000000</td>\n",
       "      <td>0.454545</td>\n",
       "      <td>0.890238</td>\n",
       "      <td>8.655534</td>\n",
       "      <td>1.000000</td>\n",
       "      <td>0.077778</td>\n",
       "      <td>0.002222</td>\n",
       "      <td>1.0</td>\n",
       "      <td>0.333333</td>\n",
       "    </tr>\n",
       "    <tr>\n",
       "      <th>1</th>\n",
       "      <td>1</td>\n",
       "      <td>10</td>\n",
       "      <td>3.0</td>\n",
       "      <td>0.0</td>\n",
       "      <td>3.0</td>\n",
       "      <td>0.0</td>\n",
       "      <td>3.0</td>\n",
       "      <td>1.000000</td>\n",
       "      <td>0.0</td>\n",
       "      <td>1.000000</td>\n",
       "      <td>...</td>\n",
       "      <td>0.0</td>\n",
       "      <td>0.000000</td>\n",
       "      <td>0.000000</td>\n",
       "      <td>0.773976</td>\n",
       "      <td>23.130514</td>\n",
       "      <td>0.000000</td>\n",
       "      <td>0.027826</td>\n",
       "      <td>0.000430</td>\n",
       "      <td>44.0</td>\n",
       "      <td>14.666667</td>\n",
       "    </tr>\n",
       "    <tr>\n",
       "      <th>2</th>\n",
       "      <td>0</td>\n",
       "      <td>10</td>\n",
       "      <td>3.0</td>\n",
       "      <td>0.0</td>\n",
       "      <td>2.0</td>\n",
       "      <td>0.0</td>\n",
       "      <td>3.0</td>\n",
       "      <td>1.000000</td>\n",
       "      <td>0.0</td>\n",
       "      <td>0.666667</td>\n",
       "      <td>...</td>\n",
       "      <td>0.0</td>\n",
       "      <td>0.000000</td>\n",
       "      <td>0.000000</td>\n",
       "      <td>0.918308</td>\n",
       "      <td>13.351339</td>\n",
       "      <td>0.000000</td>\n",
       "      <td>0.014925</td>\n",
       "      <td>0.000104</td>\n",
       "      <td>22.0</td>\n",
       "      <td>7.333333</td>\n",
       "    </tr>\n",
       "    <tr>\n",
       "      <th>3</th>\n",
       "      <td>1</td>\n",
       "      <td>10</td>\n",
       "      <td>3.0</td>\n",
       "      <td>0.0</td>\n",
       "      <td>3.0</td>\n",
       "      <td>0.0</td>\n",
       "      <td>3.0</td>\n",
       "      <td>1.000000</td>\n",
       "      <td>0.0</td>\n",
       "      <td>1.000000</td>\n",
       "      <td>...</td>\n",
       "      <td>0.0</td>\n",
       "      <td>0.000000</td>\n",
       "      <td>0.000000</td>\n",
       "      <td>0.975355</td>\n",
       "      <td>18.240926</td>\n",
       "      <td>0.000000</td>\n",
       "      <td>0.053140</td>\n",
       "      <td>0.000255</td>\n",
       "      <td>8.0</td>\n",
       "      <td>2.666667</td>\n",
       "    </tr>\n",
       "    <tr>\n",
       "      <th>4</th>\n",
       "      <td>2</td>\n",
       "      <td>10</td>\n",
       "      <td>3.0</td>\n",
       "      <td>0.0</td>\n",
       "      <td>3.0</td>\n",
       "      <td>1.0</td>\n",
       "      <td>3.0</td>\n",
       "      <td>1.000000</td>\n",
       "      <td>0.0</td>\n",
       "      <td>1.000000</td>\n",
       "      <td>...</td>\n",
       "      <td>273.0</td>\n",
       "      <td>79.670665</td>\n",
       "      <td>0.200000</td>\n",
       "      <td>0.990119</td>\n",
       "      <td>31.786048</td>\n",
       "      <td>0.333333</td>\n",
       "      <td>0.046512</td>\n",
       "      <td>0.000307</td>\n",
       "      <td>24.0</td>\n",
       "      <td>8.000000</td>\n",
       "    </tr>\n",
       "    <tr>\n",
       "      <th>...</th>\n",
       "      <td>...</td>\n",
       "      <td>...</td>\n",
       "      <td>...</td>\n",
       "      <td>...</td>\n",
       "      <td>...</td>\n",
       "      <td>...</td>\n",
       "      <td>...</td>\n",
       "      <td>...</td>\n",
       "      <td>...</td>\n",
       "      <td>...</td>\n",
       "      <td>...</td>\n",
       "      <td>...</td>\n",
       "      <td>...</td>\n",
       "      <td>...</td>\n",
       "      <td>...</td>\n",
       "      <td>...</td>\n",
       "      <td>...</td>\n",
       "      <td>...</td>\n",
       "      <td>...</td>\n",
       "      <td>...</td>\n",
       "      <td>...</td>\n",
       "    </tr>\n",
       "    <tr>\n",
       "      <th>235253</th>\n",
       "      <td>2</td>\n",
       "      <td>29995</td>\n",
       "      <td>1.0</td>\n",
       "      <td>0.0</td>\n",
       "      <td>0.0</td>\n",
       "      <td>0.0</td>\n",
       "      <td>1.0</td>\n",
       "      <td>0.500000</td>\n",
       "      <td>0.0</td>\n",
       "      <td>0.000000</td>\n",
       "      <td>...</td>\n",
       "      <td>0.0</td>\n",
       "      <td>0.000000</td>\n",
       "      <td>0.000000</td>\n",
       "      <td>0.471409</td>\n",
       "      <td>0.000000</td>\n",
       "      <td>0.000000</td>\n",
       "      <td>0.001350</td>\n",
       "      <td>0.000002</td>\n",
       "      <td>3.0</td>\n",
       "      <td>1.500000</td>\n",
       "    </tr>\n",
       "    <tr>\n",
       "      <th>235254</th>\n",
       "      <td>2</td>\n",
       "      <td>29995</td>\n",
       "      <td>1.0</td>\n",
       "      <td>0.0</td>\n",
       "      <td>1.0</td>\n",
       "      <td>0.0</td>\n",
       "      <td>1.0</td>\n",
       "      <td>0.500000</td>\n",
       "      <td>0.0</td>\n",
       "      <td>0.500000</td>\n",
       "      <td>...</td>\n",
       "      <td>0.0</td>\n",
       "      <td>0.000000</td>\n",
       "      <td>0.000000</td>\n",
       "      <td>0.471409</td>\n",
       "      <td>39.908056</td>\n",
       "      <td>0.000000</td>\n",
       "      <td>0.004850</td>\n",
       "      <td>0.000014</td>\n",
       "      <td>9.0</td>\n",
       "      <td>4.500000</td>\n",
       "    </tr>\n",
       "    <tr>\n",
       "      <th>235255</th>\n",
       "      <td>1</td>\n",
       "      <td>29995</td>\n",
       "      <td>1.0</td>\n",
       "      <td>0.0</td>\n",
       "      <td>0.0</td>\n",
       "      <td>0.0</td>\n",
       "      <td>1.0</td>\n",
       "      <td>0.500000</td>\n",
       "      <td>0.0</td>\n",
       "      <td>0.000000</td>\n",
       "      <td>...</td>\n",
       "      <td>0.0</td>\n",
       "      <td>0.000000</td>\n",
       "      <td>0.000000</td>\n",
       "      <td>0.471409</td>\n",
       "      <td>0.000000</td>\n",
       "      <td>0.000000</td>\n",
       "      <td>0.001064</td>\n",
       "      <td>0.000001</td>\n",
       "      <td>1.0</td>\n",
       "      <td>0.500000</td>\n",
       "    </tr>\n",
       "    <tr>\n",
       "      <th>235256</th>\n",
       "      <td>2</td>\n",
       "      <td>29995</td>\n",
       "      <td>0.0</td>\n",
       "      <td>0.0</td>\n",
       "      <td>0.0</td>\n",
       "      <td>0.0</td>\n",
       "      <td>0.0</td>\n",
       "      <td>0.000000</td>\n",
       "      <td>0.0</td>\n",
       "      <td>0.000000</td>\n",
       "      <td>...</td>\n",
       "      <td>0.0</td>\n",
       "      <td>0.000000</td>\n",
       "      <td>0.000000</td>\n",
       "      <td>0.000000</td>\n",
       "      <td>0.000000</td>\n",
       "      <td>0.000000</td>\n",
       "      <td>0.000000</td>\n",
       "      <td>0.000000</td>\n",
       "      <td>0.0</td>\n",
       "      <td>0.000000</td>\n",
       "    </tr>\n",
       "    <tr>\n",
       "      <th>235257</th>\n",
       "      <td>1</td>\n",
       "      <td>29995</td>\n",
       "      <td>0.0</td>\n",
       "      <td>0.0</td>\n",
       "      <td>0.0</td>\n",
       "      <td>0.0</td>\n",
       "      <td>0.0</td>\n",
       "      <td>0.000000</td>\n",
       "      <td>0.0</td>\n",
       "      <td>0.000000</td>\n",
       "      <td>...</td>\n",
       "      <td>0.0</td>\n",
       "      <td>0.000000</td>\n",
       "      <td>0.000000</td>\n",
       "      <td>0.000000</td>\n",
       "      <td>0.000000</td>\n",
       "      <td>0.000000</td>\n",
       "      <td>0.000000</td>\n",
       "      <td>0.000000</td>\n",
       "      <td>0.0</td>\n",
       "      <td>0.000000</td>\n",
       "    </tr>\n",
       "  </tbody>\n",
       "</table>\n",
       "<p>235258 rows × 146 columns</p>\n",
       "</div>"
      ],
      "text/plain": [
       "        rank  query_id  feature_0  feature_1  feature_2  feature_3  feature_4  \\\n",
       "0          0        10        1.0        0.0        1.0        3.0        3.0   \n",
       "1          1        10        3.0        0.0        3.0        0.0        3.0   \n",
       "2          0        10        3.0        0.0        2.0        0.0        3.0   \n",
       "3          1        10        3.0        0.0        3.0        0.0        3.0   \n",
       "4          2        10        3.0        0.0        3.0        1.0        3.0   \n",
       "...      ...       ...        ...        ...        ...        ...        ...   \n",
       "235253     2     29995        1.0        0.0        0.0        0.0        1.0   \n",
       "235254     2     29995        1.0        0.0        1.0        0.0        1.0   \n",
       "235255     1     29995        1.0        0.0        0.0        0.0        1.0   \n",
       "235256     2     29995        0.0        0.0        0.0        0.0        0.0   \n",
       "235257     1     29995        0.0        0.0        0.0        0.0        0.0   \n",
       "\n",
       "        feature_5  feature_6  feature_7  ...  feature_134  feature_135  \\\n",
       "0        0.333333        0.0   0.333333  ...          0.0     0.000000   \n",
       "1        1.000000        0.0   1.000000  ...          0.0     0.000000   \n",
       "2        1.000000        0.0   0.666667  ...          0.0     0.000000   \n",
       "3        1.000000        0.0   1.000000  ...          0.0     0.000000   \n",
       "4        1.000000        0.0   1.000000  ...        273.0    79.670665   \n",
       "...           ...        ...        ...  ...          ...          ...   \n",
       "235253   0.500000        0.0   0.000000  ...          0.0     0.000000   \n",
       "235254   0.500000        0.0   0.500000  ...          0.0     0.000000   \n",
       "235255   0.500000        0.0   0.000000  ...          0.0     0.000000   \n",
       "235256   0.000000        0.0   0.000000  ...          0.0     0.000000   \n",
       "235257   0.000000        0.0   0.000000  ...          0.0     0.000000   \n",
       "\n",
       "        feature_136  feature_137  feature_138  feature_139  feature_140  \\\n",
       "0          0.454545     0.890238     8.655534     1.000000     0.077778   \n",
       "1          0.000000     0.773976    23.130514     0.000000     0.027826   \n",
       "2          0.000000     0.918308    13.351339     0.000000     0.014925   \n",
       "3          0.000000     0.975355    18.240926     0.000000     0.053140   \n",
       "4          0.200000     0.990119    31.786048     0.333333     0.046512   \n",
       "...             ...          ...          ...          ...          ...   \n",
       "235253     0.000000     0.471409     0.000000     0.000000     0.001350   \n",
       "235254     0.000000     0.471409    39.908056     0.000000     0.004850   \n",
       "235255     0.000000     0.471409     0.000000     0.000000     0.001064   \n",
       "235256     0.000000     0.000000     0.000000     0.000000     0.000000   \n",
       "235257     0.000000     0.000000     0.000000     0.000000     0.000000   \n",
       "\n",
       "        feature_141  feature_142  feature_143  \n",
       "0          0.002222          1.0     0.333333  \n",
       "1          0.000430         44.0    14.666667  \n",
       "2          0.000104         22.0     7.333333  \n",
       "3          0.000255          8.0     2.666667  \n",
       "4          0.000307         24.0     8.000000  \n",
       "...             ...          ...          ...  \n",
       "235253     0.000002          3.0     1.500000  \n",
       "235254     0.000014          9.0     4.500000  \n",
       "235255     0.000001          1.0     0.500000  \n",
       "235256     0.000000          0.0     0.000000  \n",
       "235257     0.000000          0.0     0.000000  \n",
       "\n",
       "[235258 rows x 146 columns]"
      ]
     },
     "execution_count": 4,
     "metadata": {},
     "output_type": "execute_result"
    }
   ],
   "source": [
    "df = pd.read_csv('intern_task.csv')\n",
    "df"
   ]
  },
  {
   "cell_type": "code",
   "execution_count": 5,
   "metadata": {
    "tags": []
   },
   "outputs": [
    {
     "data": {
      "text/plain": [
       "rank\n",
       "0    121521\n",
       "1     75815\n",
       "2     31910\n",
       "3      4209\n",
       "4      1803\n",
       "Name: count, dtype: int64"
      ]
     },
     "execution_count": 5,
     "metadata": {},
     "output_type": "execute_result"
    }
   ],
   "source": [
    "df['rank'].value_counts()"
   ]
  },
  {
   "cell_type": "markdown",
   "metadata": {
    "jp-MarkdownHeadingCollapsed": true,
    "tags": []
   },
   "source": [
    "## Data splitting"
   ]
  },
  {
   "cell_type": "code",
   "execution_count": 6,
   "metadata": {
    "tags": []
   },
   "outputs": [],
   "source": [
    "# код взял отсюда https://sease.io/2022/07/how-to-split-your-dataset-into-train-and-test-sets-for-evaluating-learning-to-rank-models.html\n",
    "from sklearn.model_selection import StratifiedGroupKFold\n",
    "min_diff = len(df)\n",
    "test_set_size = int(len(df)*0.2)\n",
    "min_train_idx = []\n",
    "min_test_idx = []\n",
    "groups_split_object = StratifiedGroupKFold(n_splits=int(len(df)/test_set_size))\n",
    "for train_idx, test_idx in groups_split_object.split(df, df['rank'], df['query_id']):\n",
    "    diff = abs(len(test_idx) - test_set_size)\n",
    "    if diff < min_diff:\n",
    "        min_diff = diff\n",
    "        min_train_idx = train_idx\n",
    "        min_test_idx = test_idx\n",
    "        if diff == 0:\n",
    "            break\n",
    "interactions_train = df.iloc[min_train_idx]\n",
    "interactions_test = df.iloc[min_test_idx]"
   ]
  },
  {
   "cell_type": "code",
   "execution_count": 7,
   "metadata": {
    "tags": []
   },
   "outputs": [],
   "source": [
    "min_diff = len(interactions_test)\n",
    "test_set_size = int(len(interactions_test)*0.5)\n",
    "min_train_idx = []\n",
    "min_test_idx = []\n",
    "groups_split_object = StratifiedGroupKFold(n_splits=int(len(interactions_test)/test_set_size))\n",
    "for train_idx, test_idx in groups_split_object.split(interactions_test, interactions_test['rank'], interactions_test['query_id']):\n",
    "    diff = abs(len(test_idx) - test_set_size)\n",
    "    if diff < min_diff:\n",
    "        min_diff = diff\n",
    "        min_train_idx = train_idx\n",
    "        min_test_idx = test_idx\n",
    "        if diff == 0:\n",
    "            break\n",
    "interactions_val = interactions_test.iloc[min_train_idx]\n",
    "interactions_test = interactions_test.iloc[min_test_idx]"
   ]
  },
  {
   "cell_type": "code",
   "execution_count": 8,
   "metadata": {
    "tags": []
   },
   "outputs": [],
   "source": [
    "X_train, y_train = interactions_train.drop('rank', axis=1), interactions_train['rank']\n",
    "X_val, y_val = interactions_val.drop('rank', axis=1), interactions_val['rank']\n",
    "X_test, y_test = interactions_test.drop('rank', axis=1), interactions_test['rank']"
   ]
  },
  {
   "cell_type": "code",
   "execution_count": 19,
   "metadata": {
    "tags": []
   },
   "outputs": [],
   "source": [
    "from catboost import Pool\n",
    "\n",
    "train = Pool(\n",
    "    data=X_train.drop('query_id', axis=1),\n",
    "    label=y_train,\n",
    "    group_id=X_train['query_id']\n",
    ")\n",
    "\n",
    "val = Pool(\n",
    "    data=X_val.drop('query_id', axis=1),\n",
    "    label=y_val,\n",
    "    group_id=X_val['query_id']\n",
    ")\n",
    "\n",
    "test = Pool(\n",
    "    data=X_test.drop('query_id', axis=1),\n",
    "    label=y_test,\n",
    "    group_id=X_test['query_id']\n",
    ")"
   ]
  },
  {
   "cell_type": "markdown",
   "metadata": {
    "tags": []
   },
   "source": [
    "## Pairwise learning"
   ]
  },
  {
   "cell_type": "code",
   "execution_count": 42,
   "metadata": {
    "tags": []
   },
   "outputs": [
    {
     "data": {
      "application/vnd.jupyter.widget-view+json": {
       "model_id": "39d4f68e8c0d4b46a1a9256bad3d71bb",
       "version_major": 2,
       "version_minor": 0
      },
      "text/plain": [
       "MetricVisualizer(layout=Layout(align_self='stretch', height='500px'))"
      ]
     },
     "metadata": {},
     "output_type": "display_data"
    },
    {
     "name": "stderr",
     "output_type": "stream",
     "text": [
      "Default metric period is 5 because MAP, NDCG is/are not implemented for GPU\n",
      "Metric NDCG:type=Base is not implemented on GPU. Will use CPU for metric computation, this could significantly affect learning time\n",
      "Metric NDCG:top=5;type=Base is not implemented on GPU. Will use CPU for metric computation, this could significantly affect learning time\n",
      "Metric MAP:top=5 is not implemented on GPU. Will use CPU for metric computation, this could significantly affect learning time\n"
     ]
    },
    {
     "data": {
      "text/plain": [
       "<catboost.core.CatBoostRanker at 0x7be298a73bd0>"
      ]
     },
     "execution_count": 42,
     "metadata": {},
     "output_type": "execute_result"
    }
   ],
   "source": [
    "from catboost import CatBoostRanker\n",
    "\n",
    "cb_rank = CatBoostRanker(iterations=2000, loss_function='PairLogit', train_dir='PairLogit', \n",
    "                         custom_metric = ['NDCG', 'NDCG:top=5', 'MAP:top=5'],\n",
    "                         task_type=\"GPU\", silent=True, use_best_model=True)\n",
    "cb_rank.fit(train, eval_set=val, plot=True)"
   ]
  },
  {
   "cell_type": "code",
   "execution_count": 41,
   "metadata": {
    "tags": []
   },
   "outputs": [
    {
     "data": {
      "application/vnd.jupyter.widget-view+json": {
       "model_id": "cf3838d81d7f4483a1812ae6896b8c22",
       "version_major": 2,
       "version_minor": 0
      },
      "text/plain": [
       "MetricVisualizer(layout=Layout(align_self='stretch', height='500px'))"
      ]
     },
     "metadata": {},
     "output_type": "display_data"
    },
    {
     "name": "stderr",
     "output_type": "stream",
     "text": [
      "Default metric period is 5 because MAP, NDCG is/are not implemented for GPU\n",
      "Metric NDCG:type=Base is not implemented on GPU. Will use CPU for metric computation, this could significantly affect learning time\n",
      "Metric NDCG:type=Base is not implemented on GPU. Will use CPU for metric computation, this could significantly affect learning time\n",
      "Metric NDCG:top=5;type=Base is not implemented on GPU. Will use CPU for metric computation, this could significantly affect learning time\n",
      "Metric MAP:top=5 is not implemented on GPU. Will use CPU for metric computation, this could significantly affect learning time\n"
     ]
    },
    {
     "data": {
      "text/plain": [
       "<catboost.core.CatBoostRanker at 0x7be29affd7d0>"
      ]
     },
     "execution_count": 41,
     "metadata": {},
     "output_type": "execute_result"
    }
   ],
   "source": [
    "cb_rank_2 = CatBoostRanker(iterations=2000, loss_function='YetiRank', train_dir='YetiRank', \n",
    "                         custom_metric = ['NDCG:top=5', 'MAP:top=5'],\n",
    "                         task_type=\"GPU\", silent=True, use_best_model=True)\n",
    "cb_rank_2.fit(train, eval_set=val, plot=True)"
   ]
  },
  {
   "cell_type": "code",
   "execution_count": 43,
   "metadata": {
    "tags": []
   },
   "outputs": [
    {
     "data": {
      "application/vnd.jupyter.widget-view+json": {
       "model_id": "0f92f29a2d7d499e93c3696d800a7dfb",
       "version_major": 2,
       "version_minor": 0
      },
      "text/plain": [
       "MetricVisualizer(layout=Layout(align_self='stretch', height='500px'))"
      ]
     },
     "metadata": {},
     "output_type": "display_data"
    },
    {
     "name": "stderr",
     "output_type": "stream",
     "text": [
      "Default metric period is 5 because MAP, NDCG is/are not implemented for GPU\n",
      "Metric NDCG:type=Base is not implemented on GPU. Will use CPU for metric computation, this could significantly affect learning time\n",
      "Metric NDCG:top=5;type=Base is not implemented on GPU. Will use CPU for metric computation, this could significantly affect learning time\n",
      "Metric MAP:top=5 is not implemented on GPU. Will use CPU for metric computation, this could significantly affect learning time\n"
     ]
    },
    {
     "data": {
      "text/plain": [
       "<catboost.core.CatBoostRanker at 0x7be29ae16110>"
      ]
     },
     "execution_count": 43,
     "metadata": {},
     "output_type": "execute_result"
    }
   ],
   "source": [
    "cb_rank_3 = CatBoostRanker(iterations=2000, loss_function='PairLogitPairwise', train_dir='PairLogitPairwise', \n",
    "                         custom_metric = ['NDCG', 'NDCG:top=5', 'MAP:top=5'],\n",
    "                         task_type=\"GPU\", silent=True, use_best_model=True)\n",
    "cb_rank_3.fit(train, eval_set=val, plot=True)"
   ]
  },
  {
   "cell_type": "code",
   "execution_count": 45,
   "metadata": {
    "tags": []
   },
   "outputs": [
    {
     "data": {
      "application/vnd.jupyter.widget-view+json": {
       "model_id": "8a15a1f35d1a4fd1a3881c4df4d46a6a",
       "version_major": 2,
       "version_minor": 0
      },
      "text/plain": [
       "MetricVisualizer(layout=Layout(align_self='stretch', height='500px'))"
      ]
     },
     "metadata": {},
     "output_type": "display_data"
    },
    {
     "name": "stderr",
     "output_type": "stream",
     "text": [
      "Default metric period is 5 because MAP, NDCG is/are not implemented for GPU\n",
      "Metric NDCG:type=Base is not implemented on GPU. Will use CPU for metric computation, this could significantly affect learning time\n",
      "Metric NDCG:type=Base is not implemented on GPU. Will use CPU for metric computation, this could significantly affect learning time\n",
      "Metric NDCG:top=5;type=Base is not implemented on GPU. Will use CPU for metric computation, this could significantly affect learning time\n",
      "Metric MAP:top=5 is not implemented on GPU. Will use CPU for metric computation, this could significantly affect learning time\n"
     ]
    },
    {
     "data": {
      "text/plain": [
       "<catboost.core.CatBoostRanker at 0x7be298fc7d50>"
      ]
     },
     "execution_count": 45,
     "metadata": {},
     "output_type": "execute_result"
    }
   ],
   "source": [
    "cb_rank_4 = CatBoostRanker(iterations=3000, loss_function='YetiRankPairwise', train_dir='YetiRankPairwise', \n",
    "                         custom_metric = ['NDCG:top=5', 'MAP:top=5'],\n",
    "                         task_type=\"GPU\", silent=True, use_best_model=True)\n",
    "cb_rank_4.fit(train, eval_set=val, plot=True)"
   ]
  },
  {
   "cell_type": "code",
   "execution_count": 53,
   "metadata": {},
   "outputs": [
    {
     "data": {
      "application/vnd.jupyter.widget-view+json": {
       "model_id": "67167a1e8b294fe1ba8fea49601946d9",
       "version_major": 2,
       "version_minor": 0
      },
      "text/plain": [
       "MetricVisualizer(layout=Layout(align_self='stretch', height='500px'))"
      ]
     },
     "metadata": {},
     "output_type": "display_data"
    }
   ],
   "source": [
    "best_model = cb_rank_4\n",
    "metrics = best_model.eval_metrics(test, \n",
    "                             metrics=['NDCG', 'NDCG:top=5', 'MAP:top=5'],\n",
    "                             plot=True)"
   ]
  },
  {
   "cell_type": "code",
   "execution_count": null,
   "metadata": {},
   "outputs": [],
   "source": []
  }
 ],
 "metadata": {
  "kernelspec": {
   "display_name": "Python 3 (ipykernel)",
   "language": "python",
   "name": "python3"
  },
  "language_info": {
   "codemirror_mode": {
    "name": "ipython",
    "version": 3
   },
   "file_extension": ".py",
   "mimetype": "text/x-python",
   "name": "python",
   "nbconvert_exporter": "python",
   "pygments_lexer": "ipython3",
   "version": "3.11.8"
  }
 },
 "nbformat": 4,
 "nbformat_minor": 4
}
